{
 "cells": [
  {
   "cell_type": "markdown",
   "id": "8bc3f599",
   "metadata": {},
   "source": [
    "Imports"
   ]
  },
  {
   "cell_type": "code",
   "execution_count": 265,
   "id": "48003d4d",
   "metadata": {},
   "outputs": [],
   "source": [
    "import numpy as np\n",
    "import matplotlib.pyplot as plt"
   ]
  },
  {
   "cell_type": "markdown",
   "id": "446235ff",
   "metadata": {},
   "source": [
    "todo: initialise constants from the dataset (drop name column)\n",
    "todo: redefine feed forward generally\n",
    "todo: do todo "
   ]
  },
  {
   "cell_type": "markdown",
   "id": "a7e1bc6f",
   "metadata": {},
   "source": [
    "Intialise network architecture"
   ]
  },
  {
   "cell_type": "code",
   "execution_count": 266,
   "id": "7ba24926",
   "metadata": {},
   "outputs": [],
   "source": [
    "hidden_layers = 3  # number of layers(excluding input layer)\n",
    "features = 2  # number of features\n",
    "outputs = 1  # number of output nodes"
   ]
  },
  {
   "cell_type": "code",
   "execution_count": 267,
   "id": "1e358a0f",
   "metadata": {},
   "outputs": [],
   "source": [
    "def init_network(input_size=features, hidden_size=features+1, output_size=outputs, num_hidden_layers=hidden_layers):\n",
    "    weights = []\n",
    "    biases = []\n",
    "    \n",
    "    alpha = 1  # scaling factor for weights\n",
    "    beta = 1   # scaling factor for biases\n",
    "\n",
    "    # Input to first hidden layer\n",
    "    weights.append(np.random.randn(hidden_size, input_size) * alpha)\n",
    "    biases.append(np.random.randn(hidden_size, 1) * beta)\n",
    "    \n",
    "    # Hidden layers\n",
    "    for i in range(num_hidden_layers - 1):\n",
    "        weights.append(np.random.randn(hidden_size, hidden_size) * alpha)\n",
    "        biases.append(np.random.randn(hidden_size, 1) * beta)\n",
    "    \n",
    "    # Last hidden to output layer\n",
    "    weights.append(np.random.randn(output_size, hidden_size) * alpha)\n",
    "    biases.append(np.random.randn(output_size, 1) * beta)\n",
    "    \n",
    "    return weights, biases"
   ]
  },
  {
   "cell_type": "code",
   "execution_count": 268,
   "id": "803fd336",
   "metadata": {},
   "outputs": [
    {
     "name": "stdout",
     "output_type": "stream",
     "text": [
      "Weights of the network: [array([[-1.89336   ,  0.64619733],\n",
      "       [-1.33898383,  1.20412845],\n",
      "       [-0.2376183 ,  1.51236453]]), array([[-0.27422178, -0.1935497 , -0.13485304],\n",
      "       [ 0.25646856,  0.5576272 ,  0.77711924],\n",
      "       [ 1.07550293,  0.38680943, -0.31482722]]), array([[-1.05463389,  0.49712332,  1.44342212],\n",
      "       [ 2.64014531, -1.13980828, -0.27226802],\n",
      "       [ 2.73430521,  0.52345338, -0.42667464]]), array([[ 0.66627921,  0.92074982, -0.97999566]])]\n",
      "Biases of the network: [array([[-0.50952926],\n",
      "       [-0.43271379],\n",
      "       [ 1.05800238]]), array([[ 0.79880513],\n",
      "       [-0.99238038],\n",
      "       [ 0.19674909]]), array([[-0.01904788],\n",
      "       [-0.86481365],\n",
      "       [ 1.54021066]]), array([[-0.36104062]])]\n"
     ]
    }
   ],
   "source": [
    "weights, biases = init_network()\n",
    "print(\"Weights of the network:\", weights)\n",
    "print(\"Biases of the network:\", biases)"
   ]
  },
  {
   "cell_type": "markdown",
   "id": "f6c54697",
   "metadata": {},
   "source": [
    "Training data"
   ]
  },
  {
   "cell_type": "code",
   "execution_count": 269,
   "id": "b1ce2426",
   "metadata": {},
   "outputs": [],
   "source": [
    "def prepare_data():\n",
    "  X = np.array([\n",
    "      [150, 70],\n",
    "      [254, 73],\n",
    "      [312, 68],\n",
    "      [120, 60],\n",
    "      [154, 61],\n",
    "      [212, 65],\n",
    "      [216, 67],\n",
    "      [145, 67],\n",
    "      [184, 64],\n",
    "      [130, 69]\n",
    "  ])\n",
    "  y = np.array([0,1,1,0,0,1,1,0,1,0])\n",
    "  m = y.shape[0]  # number of samples\n",
    "  \n",
    "  # Normalize the input features to prevent gradient issues\n",
    "  mean = np.mean(X, axis=0)\n",
    "  std = np.std(X, axis=0)\n",
    "  X = (X - mean) / std\n",
    "  # Transpose the input matrix to match the expected shape\n",
    "  A0 = X.T\n",
    "  # Reshape y to a matrix\n",
    "  Y = y.reshape(outputs, m)\n",
    "\n",
    "  return A0, Y, mean, std"
   ]
  },
  {
   "cell_type": "code",
   "execution_count": 270,
   "id": "aa1882b6",
   "metadata": {},
   "outputs": [],
   "source": [
    "x_train, y_train, mean, std = prepare_data()"
   ]
  },
  {
   "cell_type": "markdown",
   "id": "a61ed4b5",
   "metadata": {},
   "source": [
    "Activation function sigmoid \n",
    "$$g(z)=\\frac{1}{(1+e^{-z})}$$"
   ]
  },
  {
   "cell_type": "code",
   "execution_count": 271,
   "id": "d161c1f4",
   "metadata": {},
   "outputs": [],
   "source": [
    "# Sigmoid activation function\n",
    "def sigmoid(arr):\n",
    "    return 1 / (1+np.exp(-1*arr))"
   ]
  },
  {
   "cell_type": "markdown",
   "id": "c69c4b8e",
   "metadata": {},
   "source": [
    "Feed forward"
   ]
  },
  {
   "cell_type": "code",
   "execution_count": 272,
   "id": "fdd8be87",
   "metadata": {},
   "outputs": [],
   "source": [
    "def feed_forward(input_layer=x_train, num_hidden_layers=hidden_layers, weights=weights, biases=biases):\n",
    "  cache = [input_layer]\n",
    "  \n",
    "  for i in range(0,num_hidden_layers+1):\n",
    "    prev_layer = cache[i]\n",
    "    W = weights[i]\n",
    "    b = biases[i]\n",
    "    Z = W @ prev_layer + b\n",
    "    A = sigmoid(Z)\n",
    "    cache.append(A)\n",
    "\n",
    "  return cache\n"
   ]
  },
  {
   "cell_type": "code",
   "execution_count": 273,
   "id": "84444ab3",
   "metadata": {},
   "outputs": [
    {
     "name": "stdout",
     "output_type": "stream",
     "text": [
      "Predictions of the network: [[0.39170576 0.39235328 0.39754905 0.40603143 0.40540055 0.39996956\n",
      "  0.39704212 0.39460844 0.4011572  0.39183185]]\n",
      "\n",
      "Predictions: [array([[-0.65092849,  1.1447363 ,  2.14616475, -1.16890872, -0.58186446,\n",
      "         0.41956398,  0.48862802, -0.73725852, -0.06388423, -0.99624864],\n",
      "       [ 0.94736842,  1.73684211,  0.42105263, -1.68421053, -1.42105263,\n",
      "        -0.36842105,  0.15789474,  0.15789474, -0.63157895,  0.68421053]]), array([[0.79168293, 0.17442512, 0.01337492, 0.64914963, 0.41918236,\n",
      "        0.17624652, 0.20872188, 0.72877132, 0.31073228, 0.86042965],\n",
      "       [0.82915101, 0.53142946, 0.05735703, 0.28996177, 0.20347156,\n",
      "        0.19183518, 0.28969758, 0.67799853, 0.2483044 , 0.84878771],\n",
      "       [0.93372946, 0.96810003, 0.76581324, 0.2294563 , 0.27830488,\n",
      "        0.59895657, 0.76507181, 0.81335859, 0.52946703, 0.91129133]]), array([[0.57329567, 0.62657814, 0.66390914, 0.63035248, 0.64724339,\n",
      "        0.65307282, 0.64160242, 0.58856828, 0.64431359, 0.56848767],\n",
      "       [0.5983603 , 0.52523426, 0.41051469, 0.38086262, 0.36467366,\n",
      "        0.40739484, 0.45443811, 0.55099051, 0.41028991, 0.60103558],\n",
      "       [0.74554024, 0.57080138, 0.49805532, 0.71805462, 0.65445223,\n",
      "        0.56756876, 0.57258908, 0.72844226, 0.61308497, 0.76197961]]), array([[0.67916197, 0.5999256 , 0.55076239, 0.63226653, 0.60450837,\n",
      "        0.57785306, 0.58824039, 0.66498473, 0.59636509, 0.68569149],\n",
      "       [0.44121498, 0.50884067, 0.57064675, 0.54234702, 0.56221551,\n",
      "        0.55983949, 0.53873223, 0.46573804, 0.55025291, 0.43623618],\n",
      "       [0.95701166, 0.9639056 , 0.96636319, 0.95917484, 0.96163993,\n",
      "        0.96432561, 0.96401884, 0.95799871, 0.96285739, 0.9562332 ]]), array([[0.39170576, 0.39235328, 0.39754905, 0.40603143, 0.40540055,\n",
      "        0.39996956, 0.39704212, 0.39460844, 0.4011572 , 0.39183185]])]\n"
     ]
    }
   ],
   "source": [
    "cache = feed_forward(x_train)  # Get the output layer predictions\n",
    "predictions = cache[-1]  # Last layer output\n",
    "print(\"Predictions of the network:\", cache[-1])\n",
    "print(\"\\nPredictions:\", cache)"
   ]
  },
  {
   "cell_type": "markdown",
   "id": "43bb48ba",
   "metadata": {},
   "source": [
    "Use loss as cost function: $L\\left(\\hat{y}_i y_i\\right)=-\\left(y_i \\ln \\hat{y}_i+\\left(1-y_i\\right) \\ln \\left(1-\\hat{y}_i\\right)\\right)$\n",
    "\n",
    "\n",
    "Hence cost given by: $C=\\frac{1}{m} \\sum_{i=1}^m L\\left(\\hat{y}_i, y_i\\right)$"
   ]
  },
  {
   "cell_type": "code",
   "execution_count": 274,
   "id": "24f5db76",
   "metadata": {},
   "outputs": [],
   "source": [
    "def cost(y_hat=predictions, y=y_train):\n",
    "  \"\"\"\n",
    "  y_hat should be a n^L x m matrix\n",
    "  y should be a n^L x m matrix\n",
    "  \"\"\"\n",
    "\n",
    "  # Clip predictions to avoid log(0)\n",
    "  y_hat = np.clip(y_hat, 1e-15, 1 - 1e-15)\n",
    "\n",
    "  # 1. losses is a n^L x m\n",
    "  losses = - ( (y * np.log(y_hat)) + (1 - y)*np.log(1 - y_hat) )\n",
    "\n",
    "  return np.mean(losses)"
   ]
  },
  {
   "cell_type": "code",
   "execution_count": 275,
   "id": "acb06e77",
   "metadata": {},
   "outputs": [
    {
     "name": "stdout",
     "output_type": "stream",
     "text": [
      "0.7148587646948606\n"
     ]
    }
   ],
   "source": [
    "print(cost(predictions, y_train))"
   ]
  },
  {
   "cell_type": "markdown",
   "id": "d0125e8c",
   "metadata": {},
   "source": [
    "Backpropagation with formulas derived using calculus"
   ]
  },
  {
   "cell_type": "code",
   "execution_count": 276,
   "id": "8843ea33",
   "metadata": {},
   "outputs": [],
   "source": [
    "def backprop_layer(dC_dA_current, A_current, A_prev, W_current, Y, layer_num):\n",
    "    \"\"\"\n",
    "    Backpropagation for a single layer.\n",
    "\n",
    "    Args:\n",
    "        dC_dA_current:  Propagator from the next layer (dC/dA[l+1]). For the output layer, this is None.\n",
    "        A_current:      Activations of the current layer (A[l])\n",
    "        A_prev:         Activations of the previous layer (A[l-1])\n",
    "        W_current:      Weights of the current layer (W[l])\n",
    "        Y:              True labels (only needed for the output layer)\n",
    "\n",
    "    Returns:\n",
    "        dC_dW: Gradient of cost with respect to weights\n",
    "        dC_db: Gradient of cost with respect to biases\n",
    "        dC_dA_prev: Propagator to the previous layer (dC/dA[l-1])\n",
    "    \"\"\"\n",
    "\n",
    "    # Calculate dC/dZ\n",
    "    if dC_dA_current is None:  # Output layer\n",
    "        dC_dZ = (A_current - Y) / A_current.shape[0]  # Average over the number of samples\n",
    "    else:  # Hidden layer\n",
    "        dA_dZ = A_current * (1 - A_current)\n",
    "        dC_dZ = dC_dA_current * dA_dZ\n",
    "\n",
    "\n",
    "    # calculate dC/dW\n",
    "    dZ_dW = A_prev\n",
    "    dC_dW = dC_dZ @ dZ_dW.T\n",
    "\n",
    "    # step 3. calculate dC/db\n",
    "    dC_db = np.sum(dC_dZ, axis=1, keepdims=True)\n",
    "\n",
    "    # calculate propagator to the prev layer\n",
    "    if layer_num != 0:  # Not the input layer\n",
    "        dZ_dA_prev = W_current\n",
    "        dC_dA_prev = W_current.T @ dC_dZ\n",
    "\n",
    "    else:\n",
    "        dC_dA_prev = None\n",
    "\n",
    "    return dC_dW, dC_db, dC_dA_prev"
   ]
  },
  {
   "cell_type": "markdown",
   "id": "f18478c6",
   "metadata": {},
   "source": [
    "Train"
   ]
  },
  {
   "cell_type": "code",
   "execution_count": 277,
   "id": "e6629794",
   "metadata": {},
   "outputs": [],
   "source": [
    "def train(epochs=400, alpha=0.1, hidden_layers=hidden_layers, features=features, outputs=outputs):\n",
    "  global weights, biases, x_train, y_train\n",
    "  \n",
    "  costs = []\n",
    "  num_layers = hidden_layers + 1\n",
    "\n",
    "  for e in range(epochs):\n",
    "    # Feed forward\n",
    "    cache = feed_forward(x_train)\n",
    "    predictions = cache[-1]\n",
    "    \n",
    "    # Cost\n",
    "    costs.append(cost(predictions, y_train))\n",
    "\n",
    "    # Backpropagation \n",
    "    dC_dA_prev = None\n",
    "    updates = []\n",
    "    for layer_num in range(num_layers, 0, -1):\n",
    "        \n",
    "        A_current = cache[layer_num]\n",
    "        A_prev = cache[layer_num-1]\n",
    "        W_current = weights[layer_num-1]\n",
    "\n",
    "        dC_dW, dC_db, dC_dA_prev_new = backprop_layer(\n",
    "            dC_dA_current=dC_dA_prev, \n",
    "            A_current=A_current, \n",
    "            A_prev=A_prev, \n",
    "            W_current=W_current, \n",
    "            Y=y_train,\n",
    "            layer_num=layer_num\n",
    "        )\n",
    "        dC_dA_prev = dC_dA_prev_new\n",
    "        updates.insert(0, (dC_dW, dC_db))\n",
    "\n",
    "\n",
    "    # Update weights and biases\n",
    "    for layer_num in range(num_layers):\n",
    "        dC_dW, dC_db = updates[layer_num]\n",
    "\n",
    "        # Update weights and biases\n",
    "        weights[layer_num] -= alpha * dC_dW\n",
    "        biases[layer_num] -= alpha * dC_db\n",
    "\n",
    "\n",
    "    if e % 20 == 0:\n",
    "      print(f\"epoch {e}: cost = {costs[e]:4f}\")\n",
    "  \n",
    "  return costs"
   ]
  },
  {
   "cell_type": "code",
   "execution_count": 278,
   "id": "e85edc5a",
   "metadata": {},
   "outputs": [
    {
     "name": "stdout",
     "output_type": "stream",
     "text": [
      "10\n",
      "9\n",
      "8\n",
      "7\n",
      "6\n",
      "5\n",
      "4\n",
      "3\n",
      "2\n"
     ]
    }
   ],
   "source": [
    "for i in range(10,1,-1):\n",
    "  print(i)"
   ]
  },
  {
   "cell_type": "code",
   "execution_count": 279,
   "id": "a652bb19",
   "metadata": {},
   "outputs": [
    {
     "name": "stdout",
     "output_type": "stream",
     "text": [
      "epoch 0: cost = 0.714859\n",
      "epoch 20: cost = 0.663194\n",
      "epoch 40: cost = 0.557565\n",
      "epoch 60: cost = 0.318848\n",
      "epoch 80: cost = 0.160898\n",
      "epoch 100: cost = 0.091909\n",
      "epoch 120: cost = 0.059839\n",
      "epoch 140: cost = 0.042855\n",
      "epoch 160: cost = 0.032777\n",
      "epoch 180: cost = 0.026257\n",
      "epoch 200: cost = 0.021755\n",
      "epoch 220: cost = 0.018489\n",
      "epoch 240: cost = 0.016026\n",
      "epoch 260: cost = 0.014110\n",
      "epoch 280: cost = 0.012582\n",
      "epoch 300: cost = 0.011338\n",
      "epoch 320: cost = 0.010308\n",
      "epoch 340: cost = 0.009441\n",
      "epoch 360: cost = 0.008703\n",
      "epoch 380: cost = 0.008068\n"
     ]
    },
    {
     "data": {
      "image/png": "[encoded data removed]",
      "text/plain": [
       "<Figure size 640x480 with 1 Axes>"
      ]
     },
     "metadata": {},
     "output_type": "display_data"
    }
   ],
   "source": [
    "costs = train()\n",
    "plt.plot(costs)\n",
    "plt.xlabel('Epochs')\n",
    "plt.ylabel('Cost')\n",
    "plt.title('Cost over epochs')\n",
    "plt.show()"
   ]
  },
  {
   "cell_type": "code",
   "execution_count": 280,
   "id": "33d23153",
   "metadata": {},
   "outputs": [],
   "source": [
    "def accuracy(x_test, y_test):\n",
    "    \"\"\"\n",
    "    Calculate the accuracy of the predictions.\n",
    "    \n",
    "    Args:\n",
    "        predictions: Predicted values from the network.\n",
    "        y: True labels\n",
    "        \n",
    "    Returns:\n",
    "        Accuracy as a percentage\n",
    "    \"\"\"\n",
    "    correct_predictions = np.sum(np.round(predictions) == y)\n",
    "    total_samples = y.shape[1]\n",
    "    \n",
    "    return (correct_predictions / total_samples) * 100"
   ]
  },
  {
   "cell_type": "code",
   "execution_count": 284,
   "id": "e5bb4d35",
   "metadata": {},
   "outputs": [
    {
     "name": "stdout",
     "output_type": "stream",
     "text": [
      "Prediction for [0.21237189 0.94736842]: [[1. 1. 0.]]\n"
     ]
    }
   ],
   "source": [
    "test = np.array([200, 70]) - mean\n",
    "test = test / std\n",
    "print(f\"Prediction for {test}:\", np.round(feed_forward(test.T)[-1]))"
   ]
  }
 ],
 "metadata": {
  "kernelspec": {
   "display_name": "Python 3",
   "language": "python",
   "name": "python3"
  },
  "language_info": {
   "codemirror_mode": {
    "name": "ipython",
    "version": 3
   },
   "file_extension": ".py",
   "mimetype": "text/x-python",
   "name": "python",
   "nbconvert_exporter": "python",
   "pygments_lexer": "ipython3",
   "version": "3.11.9"
  }
 },
 "nbformat": 4,
 "nbformat_minor": 5
}
