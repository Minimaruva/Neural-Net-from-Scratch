{
 "cells": [
  {
   "cell_type": "markdown",
   "id": "8bc3f599",
   "metadata": {},
   "source": [
    "Imports"
   ]
  },
  {
   "cell_type": "code",
   "execution_count": 32,
   "id": "48003d4d",
   "metadata": {},
   "outputs": [],
   "source": [
    "import numpy as np\n",
    "import matplotlib.pyplot as plt"
   ]
  },
  {
   "cell_type": "markdown",
   "id": "446235ff",
   "metadata": {},
   "source": [
    "todo: initialise constants from the dataset (drop name column)\n",
    "todo: redefine feed forward generally\n",
    "todo: do todo "
   ]
  },
  {
   "cell_type": "markdown",
   "id": "a7e1bc6f",
   "metadata": {},
   "source": [
    "Intialise network architecture"
   ]
  },
  {
   "cell_type": "code",
   "execution_count": 33,
   "id": "7ba24926",
   "metadata": {},
   "outputs": [],
   "source": [
    "L = 3  # number of layers(excluding input layer)\n",
    "n = 2  # number of features\n",
    "m = 1  # number of output nodes\n",
    "\n",
    "hidden_layers = 3  # number of layers(excluding input layer)\n",
    "features = 2  # number of features\n",
    "outputs = 1  # number of output nodes"
   ]
  },
  {
   "cell_type": "code",
   "execution_count": 34,
   "id": "1e358a0f",
   "metadata": {},
   "outputs": [],
   "source": [
    "def init_network(input_size=features, hidden_size=features+1, output_size=outputs, num_hidden_layers=hidden_layers):\n",
    "    weights = []\n",
    "    biases = []\n",
    "    \n",
    "    alpha = 1  # scaling factor for weights\n",
    "    beta = 1   # scaling factor for biases\n",
    "\n",
    "    # Input to first hidden layer\n",
    "    weights.append(np.random.randn(hidden_size, input_size) * alpha)\n",
    "    biases.append(np.random.randn(hidden_size, 1) * beta)\n",
    "    \n",
    "    # Hidden layers\n",
    "    for i in range(num_hidden_layers - 1):\n",
    "        weights.append(np.random.randn(hidden_size, hidden_size) * alpha)\n",
    "        biases.append(np.random.randn(hidden_size, 1) * beta)\n",
    "    \n",
    "    # Last hidden to output layer\n",
    "    weights.append(np.random.randn(output_size, hidden_size) * alpha)\n",
    "    biases.append(np.random.randn(output_size, 1) * beta)\n",
    "    \n",
    "    return weights, biases"
   ]
  },
  {
   "cell_type": "code",
   "execution_count": 35,
   "id": "803fd336",
   "metadata": {},
   "outputs": [
    {
     "name": "stdout",
     "output_type": "stream",
     "text": [
      "Weights of the network: [array([[-0.33175513,  0.76561211],\n",
      "       [ 0.46894634,  0.44464116],\n",
      "       [-0.65441888,  0.12897632]]), array([[ 0.4037181 ,  0.05786122, -0.13040698],\n",
      "       [-0.11121923,  0.35933662,  0.25469593],\n",
      "       [ 0.70534988,  0.12185637,  0.43701857]]), array([[ 1.32875648,  0.30233388,  1.69193105],\n",
      "       [ 1.3212224 ,  1.19152615, -0.9021939 ],\n",
      "       [-0.27501323, -1.01152687,  0.09217554]]), array([[ 1.08662421,  1.02864017, -2.68626138]])]\n",
      "Biases of the network: [array([[-0.72209286],\n",
      "       [ 0.47724023],\n",
      "       [-0.05643292]]), array([[-0.8110517 ],\n",
      "       [ 0.23764747],\n",
      "       [-0.53121654]]), array([[ 0.33744979],\n",
      "       [-0.77794348],\n",
      "       [-0.26309248]]), array([[0.5537263]])]\n"
     ]
    }
   ],
   "source": [
    "weights, biases = init_network()\n",
    "print(\"Weights of the network:\", weights)\n",
    "print(\"Biases of the network:\", biases)"
   ]
  },
  {
   "cell_type": "markdown",
   "id": "f6c54697",
   "metadata": {},
   "source": [
    "Training data"
   ]
  },
  {
   "cell_type": "code",
   "execution_count": 36,
   "id": "b1ce2426",
   "metadata": {},
   "outputs": [],
   "source": [
    "def prepare_data():\n",
    "  X = np.array([\n",
    "      [150, 70],\n",
    "      [254, 73],\n",
    "      [312, 68],\n",
    "      [120, 60],\n",
    "      [154, 61],\n",
    "      [212, 65],\n",
    "      [216, 67],\n",
    "      [145, 67],\n",
    "      [184, 64],\n",
    "      [130, 69]\n",
    "  ])\n",
    "  y = np.array([0,1,1,0,0,1,1,0,1,0])\n",
    "  m = y.shape[0]  # number of samples\n",
    "  # Normalize the input features to prevent gradient issues\n",
    "  X = (X - np.mean(X, axis=0)) / np.std(X, axis=0)\n",
    "  # Transpose the input matrix to match the expected shape\n",
    "  A0 = X.T\n",
    "  # Reshape y to a matrix\n",
    "  Y = y.reshape(outputs, m)\n",
    "\n",
    "  return A0, Y"
   ]
  },
  {
   "cell_type": "code",
   "execution_count": 37,
   "id": "aa1882b6",
   "metadata": {},
   "outputs": [],
   "source": [
    "x_train, y_train = prepare_data()"
   ]
  },
  {
   "cell_type": "markdown",
   "id": "a61ed4b5",
   "metadata": {},
   "source": [
    "Activation function sigmoid \n",
    "$$g(z)=\\frac{1}{(1+e^{-z})}$$"
   ]
  },
  {
   "cell_type": "code",
   "execution_count": 38,
   "id": "d161c1f4",
   "metadata": {},
   "outputs": [],
   "source": [
    "# Sigmoid activation function\n",
    "def sigmoid(arr):\n",
    "    return 1 / (1+np.exp(-1*arr))"
   ]
  },
  {
   "cell_type": "markdown",
   "id": "c69c4b8e",
   "metadata": {},
   "source": [
    "Feed forward"
   ]
  },
  {
   "cell_type": "code",
   "execution_count": 39,
   "id": "fdd8be87",
   "metadata": {},
   "outputs": [],
   "source": [
    "def feed_forward(input_layer=x_train, num_hidden_layers=hidden_layers, weights=weights, biases=biases):\n",
    "  cache = [input_layer]\n",
    "  \n",
    "  for i in range(0,num_hidden_layers+1):\n",
    "    prev_layer = cache[i]\n",
    "    W = weights[i]\n",
    "    b = biases[i]\n",
    "    Z = W @ prev_layer + b\n",
    "    A = sigmoid(Z)\n",
    "    cache.append(A)\n",
    "\n",
    "  return cache\n"
   ]
  },
  {
   "cell_type": "code",
   "execution_count": 40,
   "id": "84444ab3",
   "metadata": {},
   "outputs": [
    {
     "name": "stdout",
     "output_type": "stream",
     "text": [
      "Predictions of the network: [[0.77800071 0.77982109 0.77747403 0.77152595 0.77237924 0.77539638\n",
      "  0.77662654 0.77606353 0.77451626 0.77718905]]\n",
      "\n",
      "Predictions: [array([[-0.65092849,  1.1447363 ,  2.14616475, -1.16890872, -0.58186446,\n",
      "         0.41956398,  0.48862802, -0.73725852, -0.06388423, -0.99624864],\n",
      "       [ 0.94736842,  1.73684211,  0.42105263, -1.68421053, -1.42105263,\n",
      "        -0.36842105,  0.15789474,  0.15789474, -0.63157895,  0.68421053]]), array([[0.55457489, 0.55672532, 0.24754831, 0.16468788, 0.16561468,\n",
      "        0.24170528, 0.31792772, 0.41177863, 0.2342542 , 0.53301629],\n",
      "       [0.64410561, 0.85647693, 0.84169493, 0.30580939, 0.39472789,\n",
      "        0.62484821, 0.68494408, 0.55025772, 0.54151817, 0.57792992],\n",
      "       [0.62051509, 0.35857407, 0.19676806, 0.62041257, 0.53520864,\n",
      "        0.40648364, 0.41196801, 0.60978478, 0.47599731, 0.66458138]]), array([[0.34732677, 0.35812871, 0.33446246, 0.30836465, 0.31192275,\n",
      "        0.32512347, 0.33252424, 0.33347921, 0.32142746, 0.3431947 ],\n",
      "       [0.63771528, 0.63987457, 0.63707315, 0.61945511, 0.62184427,\n",
      "        0.63153922, 0.63491012, 0.63294858, 0.62888018, 0.63536514],\n",
      "       [0.5522134 , 0.53059679, 0.4580858 , 0.47336092, 0.46694727,\n",
      "        0.47328867, 0.48913576, 0.52317617, 0.47702163, 0.551221  ]]), array([[0.87281406, 0.87040051, 0.85189318, 0.85009771, 0.84940811,\n",
      "        0.85335579, 0.85800674, 0.86495883, 0.85343096, 0.87193672],\n",
      "       [0.48565476, 0.49473776, 0.50244071, 0.48513149, 0.48846269,\n",
      "        0.49427882, 0.49415319, 0.48620979, 0.49142455, 0.4838154 ],\n",
      "       [0.27832659, 0.27689323, 0.27742584, 0.28275027, 0.28194251,\n",
      "        0.27934781, 0.27854642, 0.27952396, 0.2801639 , 0.27901448]]), array([[0.77800071, 0.77982109, 0.77747403, 0.77152595, 0.77237924,\n",
      "        0.77539638, 0.77662654, 0.77606353, 0.77451626, 0.77718905]])]\n"
     ]
    }
   ],
   "source": [
    "cache = feed_forward(x_train)  # Get the output layer predictions\n",
    "predictions = cache[-1]  # Last layer output\n",
    "print(\"Predictions of the network:\", cache[-1])\n",
    "print(\"\\nPredictions:\", cache)"
   ]
  },
  {
   "cell_type": "markdown",
   "id": "43bb48ba",
   "metadata": {},
   "source": [
    "Use loss as cost function: $L\\left(\\hat{y}_i y_i\\right)=-\\left(y_i \\ln \\hat{y}_i+\\left(1-y_i\\right) \\ln \\left(1-\\hat{y}_i\\right)\\right)$\n",
    "\n",
    "\n",
    "Hence cost given by: $C=\\frac{1}{m} \\sum_{i=1}^m L\\left(\\hat{y}_i, y_i\\right)$"
   ]
  },
  {
   "cell_type": "code",
   "execution_count": 41,
   "id": "24f5db76",
   "metadata": {},
   "outputs": [],
   "source": [
    "def cost(y_hat=predictions, y=y_train):\n",
    "  \"\"\"\n",
    "  y_hat should be a n^L x m matrix\n",
    "  y should be a n^L x m matrix\n",
    "  \"\"\"\n",
    "\n",
    "  # Clip predictions to avoid log(0)\n",
    "  y_hat = np.clip(y_hat, 1e-15, 1 - 1e-15)\n",
    "\n",
    "  # 1. losses is a n^L x m\n",
    "  losses = - ( (y * np.log(y_hat)) + (1 - y)*np.log(1 - y_hat) )\n",
    "\n",
    "  return np.mean(losses)"
   ]
  },
  {
   "cell_type": "code",
   "execution_count": 42,
   "id": "acb06e77",
   "metadata": {},
   "outputs": [
    {
     "name": "stdout",
     "output_type": "stream",
     "text": [
      "0.8722401652531057\n"
     ]
    }
   ],
   "source": [
    "print(cost(predictions, y_train))"
   ]
  },
  {
   "cell_type": "markdown",
   "id": "d0125e8c",
   "metadata": {},
   "source": [
    "Backpropagation with formulas derived using calculus"
   ]
  },
  {
   "cell_type": "code",
   "execution_count": 43,
   "id": "8843ea33",
   "metadata": {},
   "outputs": [],
   "source": [
    "def backprop_layer(dC_dA_current, A_current, A_prev, W_current, Y, layer_num):\n",
    "    \"\"\"\n",
    "    Backpropagation for a single layer.\n",
    "\n",
    "    Args:\n",
    "        dC_dA_current:  Propagator from the next layer (dC/dA[l+1]). For the output layer, this is None.\n",
    "        A_current:      Activations of the current layer (A[l])\n",
    "        A_prev:         Activations of the previous layer (A[l-1])\n",
    "        W_current:      Weights of the current layer (W[l])\n",
    "        Y:              True labels (only needed for the output layer)\n",
    "\n",
    "    Returns:\n",
    "        dC_dW: Gradient of cost with respect to weights\n",
    "        dC_db: Gradient of cost with respect to biases\n",
    "        dC_dA_prev: Propagator to the previous layer (dC/dA[l-1])\n",
    "    \"\"\"\n",
    "\n",
    "    # Calculate dC/dZ\n",
    "    if dC_dA_current is None:  # Output layer\n",
    "        dC_dZ = (1/m) * (A_current - Y)\n",
    "    else:  # Hidden layer\n",
    "        dA_dZ = A_current * (1 - A_current)\n",
    "        dC_dZ = dC_dA_current * dA_dZ\n",
    "\n",
    "\n",
    "    # calculate dC/dW\n",
    "    dZ_dW = A_prev\n",
    "    dC_dW = dC_dZ @ dZ_dW.T\n",
    "\n",
    "    # step 3. calculate dC/db\n",
    "    dC_db = np.sum(dC_dZ, axis=1, keepdims=True)\n",
    "\n",
    "    # calculate propagator to the prev layer\n",
    "    if layer_num != 0:  # Not the input layer\n",
    "        dZ_dA_prev = W_current\n",
    "        dC_dA_prev = W_current.T @ dC_dZ\n",
    "\n",
    "    else:\n",
    "        dC_dA_prev = None\n",
    "\n",
    "    return dC_dW, dC_db, dC_dA_prev"
   ]
  },
  {
   "cell_type": "markdown",
   "id": "f18478c6",
   "metadata": {},
   "source": [
    "Train"
   ]
  },
  {
   "cell_type": "code",
   "execution_count": 44,
   "id": "e6629794",
   "metadata": {},
   "outputs": [],
   "source": [
    "def train(epochs=500, alpha=0.1, hidden_layers=hidden_layers, features=features, outputs=outputs):\n",
    "  global weights, biases, x_train, y_train\n",
    "  \n",
    "  costs = []\n",
    "  num_layers = hidden_layers + 1\n",
    "\n",
    "  for e in range(epochs):\n",
    "    # Feed forward\n",
    "    cache = feed_forward(x_train)\n",
    "    predictions = cache[-1]\n",
    "    \n",
    "    # Cost\n",
    "    costs.append(cost(predictions, y_train))\n",
    "\n",
    "    # Backpropagation \n",
    "    dC_dA_prev = None\n",
    "    updates = []\n",
    "    for layer_num in range(num_layers, 0, -1):\n",
    "        \n",
    "        A_current = cache[layer_num]\n",
    "        A_prev = cache[layer_num-1]\n",
    "        W_current = weights[layer_num-1]\n",
    "\n",
    "        dC_dW, dC_db, dC_dA_prev_new = backprop_layer(\n",
    "            dC_dA_current=dC_dA_prev, \n",
    "            A_current=A_current, \n",
    "            A_prev=A_prev, \n",
    "            W_current=W_current, \n",
    "            Y=y_train,\n",
    "            layer_num=layer_num\n",
    "        )\n",
    "        dC_dA_prev = dC_dA_prev_new\n",
    "        updates.insert(0, (dC_dW, dC_db))\n",
    "\n",
    "\n",
    "    # Update weights and biases\n",
    "    for layer_num in range(num_layers):\n",
    "        dC_dW, dC_db = updates[layer_num]\n",
    "\n",
    "        # Update weights and biases\n",
    "        weights[layer_num] -= alpha * dC_dW\n",
    "        biases[layer_num] -= alpha * dC_db\n",
    "\n",
    "\n",
    "    if e % 20 == 0:\n",
    "      print(f\"epoch {e}: cost = {costs[e]:4f}\")\n",
    "  \n",
    "  return costs"
   ]
  },
  {
   "cell_type": "code",
   "execution_count": 45,
   "id": "e85edc5a",
   "metadata": {},
   "outputs": [
    {
     "name": "stdout",
     "output_type": "stream",
     "text": [
      "10\n",
      "9\n",
      "8\n",
      "7\n",
      "6\n",
      "5\n",
      "4\n",
      "3\n",
      "2\n"
     ]
    }
   ],
   "source": [
    "for i in range(10,1,-1):\n",
    "  print(i)"
   ]
  },
  {
   "cell_type": "code",
   "execution_count": 46,
   "id": "a652bb19",
   "metadata": {},
   "outputs": [
    {
     "name": "stdout",
     "output_type": "stream",
     "text": [
      "epoch 0: cost = 0.872240\n",
      "epoch 20: cost = 0.678341\n",
      "epoch 40: cost = 0.639923\n",
      "epoch 60: cost = 0.471085\n",
      "epoch 80: cost = 0.203247\n",
      "epoch 100: cost = 0.094263\n",
      "epoch 120: cost = 0.054931\n",
      "epoch 140: cost = 0.037069\n",
      "epoch 160: cost = 0.027450\n",
      "epoch 180: cost = 0.021606\n",
      "epoch 200: cost = 0.017737\n",
      "epoch 220: cost = 0.015008\n",
      "epoch 240: cost = 0.012989\n",
      "epoch 260: cost = 0.011440\n",
      "epoch 280: cost = 0.010216\n",
      "epoch 300: cost = 0.009226\n",
      "epoch 320: cost = 0.008409\n",
      "epoch 340: cost = 0.007724\n",
      "epoch 360: cost = 0.007141\n",
      "epoch 380: cost = 0.006640\n",
      "epoch 400: cost = 0.006204\n",
      "epoch 420: cost = 0.005822\n",
      "epoch 440: cost = 0.005484\n",
      "epoch 460: cost = 0.005183\n",
      "epoch 480: cost = 0.004914\n"
     ]
    },
    {
     "data": {
      "image/png": "[encoded data removed]",
      "text/plain": [
       "<Figure size 640x480 with 1 Axes>"
      ]
     },
     "metadata": {},
     "output_type": "display_data"
    }
   ],
   "source": [
    "costs = train()\n",
    "plt.plot(costs)\n",
    "plt.xlabel('Epochs')\n",
    "plt.ylabel('Cost')\n",
    "plt.title('Cost over epochs')\n",
    "plt.show()"
   ]
  },
  {
   "cell_type": "code",
   "execution_count": null,
   "id": "33d23153",
   "metadata": {},
   "outputs": [],
   "source": []
  }
 ],
 "metadata": {
  "kernelspec": {
   "display_name": "Python 3",
   "language": "python",
   "name": "python3"
  },
  "language_info": {
   "codemirror_mode": {
    "name": "ipython",
    "version": 3
   },
   "file_extension": ".py",
   "mimetype": "text/x-python",
   "name": "python",
   "nbconvert_exporter": "python",
   "pygments_lexer": "ipython3",
   "version": "3.11.9"
  }
 },
 "nbformat": 4,
 "nbformat_minor": 5
}
